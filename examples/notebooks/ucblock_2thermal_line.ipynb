{
 "cells": [
  {
   "cell_type": "markdown",
   "metadata": {},
   "source": [
    "# 2-buses UCBlock, NetworkBlock and two ThermalUnitBlocks\n",
    "In the following, we provide an example on how to build a simple optimization model with SMS++. This is a dispatch problem, considering two buses, connected by a line, with a load and a thermal generator each. \n",
    "\n",
    "First, an empty SMSNetwork with block file type is generated."
   ]
  },
  {
   "cell_type": "code",
   "execution_count": 1,
   "metadata": {},
   "outputs": [
    {
     "data": {
      "text/plain": [
       "SMSNetwork Object\n",
       "Block object\n",
       "Dimensions: None\n",
       "Variables: None\n",
       "Attributes: SMS++_file_type\n",
       "Blocks: None"
      ]
     },
     "execution_count": 1,
     "metadata": {},
     "output_type": "execute_result"
    }
   ],
   "source": [
    "from pysmspp import SMSNetwork, SMSFileType\n",
    "\n",
    "sn = SMSNetwork(file_type=SMSFileType.eBlockFile) # Empty Block\n",
    "\n",
    "sn"
   ]
  },
  {
   "cell_type": "markdown",
   "metadata": {},
   "source": [
    "The network does not contain any block inside, so it has to be populated. The first block is a UCBlock, which includes several information.\n",
    "1- Dimensions of the problem"
   ]
  },
  {
   "cell_type": "code",
   "execution_count": 2,
   "metadata": {},
   "outputs": [],
   "source": [
    "kwargs = {\n",
    "    \"TimeHorizon\":24,  # number of time steps\n",
    "    \"NumberUnits\":2,  # number of units\n",
    "    \"NumberElectricalGenerators\":2,  # number of electrical generators\n",
    "    \"NumberNodes\":2,  # number of nodes\n",
    "    \"NumberLines\":1, # number of lines\n",
    "    }\n"
   ]
  },
  {
   "cell_type": "markdown",
   "metadata": {},
   "source": [
    "2- Demand for each node. This has to be defined as a Variable object"
   ]
  },
  {
   "cell_type": "code",
   "execution_count": 3,
   "metadata": {},
   "outputs": [],
   "source": [
    "from pysmspp import Variable\n",
    "import numpy as np\n",
    "\n",
    "demand_array = np.full((2, 24), 50.)\n",
    "demand = {\"ActivePowerDemand\": Variable(  # active power demand\n",
    "        \"ActivePowerDemand\",\n",
    "        \"float\",\n",
    "        (\"NumberNodes\", \"TimeHorizon\"),\n",
    "        demand_array, )}   # constant demand of 50kW\n",
    "\n",
    "kwargs = {**kwargs, **demand}"
   ]
  },
  {
   "cell_type": "markdown",
   "metadata": {},
   "source": [
    "3- Parameters for the line\n",
    "In fact, a line can be described with a DCNetworkBlock or directly including its relevant parameters in UCBlock"
   ]
  },
  {
   "cell_type": "code",
   "execution_count": 4,
   "metadata": {},
   "outputs": [],
   "source": [
    "line_variables = {\n",
    "    \"StartLine\": Variable(\n",
    "        \"StartLine\", \"int\", (\"NumberLines\",), [0]),\n",
    "    \"EndLine\": Variable(\n",
    "        \"EndLine\", \"int\", (\"NumberLines\",), [1]),\n",
    "    \"MinPowerFlow\": Variable(\n",
    "        \"MinPowerFlow\", \"float\", (\"NumberLines\",), [-50.0]),\n",
    "    \"MaxPowerFlow\": Variable(\n",
    "        \"MaxPowerFlow\", \"float\", (\"NumberLines\",), [50.0]),\n",
    "    \"LineSusceptance\": Variable(\n",
    "        \"LineSusceptance\", \"float\", (\"NumberLines\",), [0.]),\n",
    "    }\n",
    "\n",
    "kwargs = {**kwargs, **line_variables}"
   ]
  },
  {
   "cell_type": "markdown",
   "metadata": {},
   "source": [
    "4- Variable to specify in which bus (node) the generator is attached"
   ]
  },
  {
   "cell_type": "code",
   "execution_count": 5,
   "metadata": {},
   "outputs": [],
   "source": [
    "generator_node = {\n",
    "    \"GeneratorNode\": Variable('GeneratorNode', int,\n",
    "                    (\"NumberElectricalGenerators\",), [0,1]),\n",
    "    }\n",
    "\n",
    "kwargs = {**kwargs, **generator_node}"
   ]
  },
  {
   "cell_type": "markdown",
   "metadata": {},
   "source": [
    "Add everything with the SMSnetwork.add function"
   ]
  },
  {
   "cell_type": "code",
   "execution_count": 6,
   "metadata": {},
   "outputs": [
    {
     "data": {
      "text/plain": [
       "SMSNetwork Object\n",
       "Block object\n",
       "Dimensions: None\n",
       "Variables: None\n",
       "Attributes: SMS++_file_type\n",
       "Blocks: Block_0"
      ]
     },
     "execution_count": 6,
     "metadata": {},
     "output_type": "execute_result"
    }
   ],
   "source": [
    "sn.add(\n",
    "    \"UCBlock\",  # block type\n",
    "    \"Block_0\",  # block name\n",
    "    id=\"0\",  # block id\n",
    "    **kwargs\n",
    ")\n",
    "\n",
    "sn"
   ]
  },
  {
   "cell_type": "markdown",
   "metadata": {},
   "source": [
    "Now the SMSNetworj object has an UCBlock called Block_0. Let's see how it is organized"
   ]
  },
  {
   "cell_type": "code",
   "execution_count": 7,
   "metadata": {},
   "outputs": [
    {
     "data": {
      "text/plain": [
       "Block object\n",
       "Dimensions: TimeHorizon, NumberUnits, NumberElectricalGenerators, NumberNodes, NumberLines\n",
       "Variables: ActivePowerDemand, StartLine, EndLine, MinPowerFlow, MaxPowerFlow, LineSusceptance, GeneratorNode\n",
       "Attributes: type, id\n",
       "Blocks: None"
      ]
     },
     "execution_count": 7,
     "metadata": {},
     "output_type": "execute_result"
    }
   ],
   "source": [
    "sn.blocks['Block_0']"
   ]
  },
  {
   "cell_type": "markdown",
   "metadata": {},
   "source": [
    "Now, the two thermal units have to be added to the UCBlock as ThermalUnitBlocks.\n",
    "First, the Block().from_kwargs is used to organize the object as a block"
   ]
  },
  {
   "cell_type": "code",
   "execution_count": 8,
   "metadata": {},
   "outputs": [
    {
     "data": {
      "text/plain": [
       "Block object\n",
       "Dimensions: None\n",
       "Variables: MinPower, MaxPower, LinearTerm, InitUpDownTime\n",
       "Attributes: type\n",
       "Blocks: None"
      ]
     },
     "execution_count": 8,
     "metadata": {},
     "output_type": "execute_result"
    }
   ],
   "source": [
    "from pysmspp import Block, SMSConfig\n",
    "\n",
    "thermal_unit_block = Block().from_kwargs(\n",
    "    block_type=\"ThermalUnitBlock\",\n",
    "    MinPower=Variable(\"MinPower\", \"float\", (), 0.0),\n",
    "    MaxPower=Variable(\"MaxPower\", \"float\", (), 70.0),\n",
    "    LinearTerm=Variable(\"LinearTerm\", \"float\", (), 0.3),\n",
    "    InitUpDownTime=Variable(\"InitUpDownTime\", \"int\", (), 1),\n",
    ")\n",
    "\n",
    "thermal_unit_block"
   ]
  },
  {
   "cell_type": "markdown",
   "metadata": {},
   "source": [
    "Then, the unit block is added to the UCBlock"
   ]
  },
  {
   "cell_type": "code",
   "execution_count": 9,
   "metadata": {},
   "outputs": [
    {
     "data": {
      "text/plain": [
       "Block object\n",
       "Dimensions: TimeHorizon, NumberUnits, NumberElectricalGenerators, NumberNodes, NumberLines\n",
       "Variables: ActivePowerDemand, StartLine, EndLine, MinPowerFlow, MaxPowerFlow, LineSusceptance, GeneratorNode\n",
       "Attributes: type, id\n",
       "Blocks: UnitBlock_0"
      ]
     },
     "execution_count": 9,
     "metadata": {},
     "output_type": "execute_result"
    }
   ],
   "source": [
    "# Add it to the existing UCBlock (Block_0)\n",
    "sn.blocks[\"Block_0\"].add_block(\"UnitBlock_0\", block=thermal_unit_block)\n",
    "\n",
    "sn.blocks[\"Block_0\"]"
   ]
  },
  {
   "cell_type": "markdown",
   "metadata": {},
   "source": [
    "Similarly for the second ThermalUnitBlock. The max power is chosen to force the system to use the line"
   ]
  },
  {
   "cell_type": "code",
   "execution_count": 10,
   "metadata": {},
   "outputs": [
    {
     "data": {
      "text/plain": [
       "Block object\n",
       "Dimensions: TimeHorizon, NumberUnits, NumberElectricalGenerators, NumberNodes, NumberLines\n",
       "Variables: ActivePowerDemand, StartLine, EndLine, MinPowerFlow, MaxPowerFlow, LineSusceptance, GeneratorNode\n",
       "Attributes: type, id\n",
       "Blocks: UnitBlock_0, UnitBlock_1"
      ]
     },
     "execution_count": 10,
     "metadata": {},
     "output_type": "execute_result"
    }
   ],
   "source": [
    "thermal_unit_block = Block().from_kwargs(\n",
    "    block_type=\"ThermalUnitBlock\",\n",
    "    MinPower=Variable(\"MinPower\", \"float\", (), 0.0),\n",
    "    MaxPower=Variable(\"MaxPower\", \"float\", (), 90.0),\n",
    "    LinearTerm=Variable(\"LinearTerm\", \"float\", (), 0.8),\n",
    "    InitUpDownTime=Variable(\"InitUpDownTime\", \"int\", (), 1),\n",
    ")\n",
    "\n",
    "# Add it to the existing UCBlock (Block_0)\n",
    "sn.blocks[\"Block_0\"].add_block(\"UnitBlock_1\", block=thermal_unit_block)\n",
    "\n",
    "sn.blocks[\"Block_0\"]"
   ]
  },
  {
   "cell_type": "markdown",
   "metadata": {},
   "source": [
    "The problem can be now optimized"
   ]
  },
  {
   "cell_type": "code",
   "execution_count": 11,
   "metadata": {},
   "outputs": [],
   "source": [
    "configfile = SMSConfig(\n",
    "    template=\"uc_solverconfig\"\n",
    ")  # path to the template solver config file \"uc_solverconfig\"\n",
    "temporary_smspp_file = \"./2buses_2thermal.nc\"  # path to temporary SMS++ file\n",
    "output_file = \"./2buses_2thermal.txt\"  # path to the output file (optional)\n",
    "\n",
    "result = sn.optimize(\n",
    "    configfile,\n",
    "    temporary_smspp_file,\n",
    "    output_file,\n",
    ")"
   ]
  },
  {
   "cell_type": "markdown",
   "metadata": {},
   "source": [
    "The value of the objective function and the complete log can be obtained with"
   ]
  },
  {
   "cell_type": "code",
   "execution_count": 12,
   "metadata": {},
   "outputs": [
    {
     "data": {
      "text/plain": [
       "1080.0"
      ]
     },
     "execution_count": 12,
     "metadata": {},
     "output_type": "execute_result"
    }
   ],
   "source": [
    "result.objective_value"
   ]
  },
  {
   "cell_type": "code",
   "execution_count": 13,
   "metadata": {},
   "outputs": [
    {
     "data": {
      "text/plain": [
       "'Using a default Block configuration\\r\\nSolver: CPXMILPSolver\\r\\nVersion identifier: 22.1.1.0 | 2022-11-27 | 9160aff4d\\r\\nCPXPARAM_TimeLimit                               3600\\r\\nCPXPARAM_MIP_Pool_AbsGap                         0.0001\\r\\nTried aggregator 1 time.\\r\\nMIP Presolve eliminated 432 rows and 264 columns.\\r\\nAll rows and columns eliminated.\\r\\nPresolve time = 0.00 sec. (0.28 ticks)\\r\\n\\r\\nRoot node processing (before b&c):\\r\\n  Real time             =    0.00 sec. (0.33 ticks)\\r\\nParallel b&c, 12 threads:\\r\\n  Real time             =    0.00 sec. (0.00 ticks)\\r\\n  Sync time (average)   =    0.00 sec.\\r\\n  Wait time (average)   =    0.00 sec.\\r\\n                          ------------\\r\\nTotal (root+branch&cut) =    0.00 sec. (0.33 ticks)\\r\\nElapsed time: 6.71520000e-03 s\\r\\nStatus = 10 (Success)\\r\\nUpper bound = 1.08000000e+03\\r\\nLower bound = 1.08000000e+03\\r\\n\\r\\n----- ThermalUnitBlock 0 -----\\r\\nFunction value = 5.04000000e+02\\r\\nCommitment     = [ 1 1 1 1 1 1 1 1 1 1 1 1 1 1 1 1 1 1 1 1 1 1 1 1 ]\\r\\nStart up       = [ 0 0 0 0 0 0 0 0 0 0 0 0 0 0 0 0 0 0 0 0 0 0 0 0 ]\\r\\nShut down      = [ 0 0 0 0 0 0 0 0 0 0 0 0 0 0 0 0 0 0 0 0 0 0 0 0 ]\\r\\nActive power   = [      7.00000000e+01      7.00000000e+01      7.00000000e+01      7.00000000e+01      7.00000000e+01      7.00000000e+01      7.00000000e+01      7.00000000e+01      7.00000000e+01      7.00000000e+01      7.00000000e+01      7.00000000e+01      7.00000000e+01      7.00000000e+01      7.00000000e+01      7.00000000e+01      7.00000000e+01      7.00000000e+01      7.00000000e+01      7.00000000e+01      7.00000000e+01      7.00000000e+01      7.00000000e+01      7.00000000e+01 ]\\r\\n\\r\\n----- ThermalUnitBlock 1 -----\\r\\nFunction value = 5.76000000e+02\\r\\nCommitment     = [ 1 1 1 1 1 1 1 1 1 1 1 1 1 1 1 1 1 1 1 1 1 1 1 1 ]\\r\\nStart up       = [ 0 0 0 0 0 0 0 0 0 0 0 0 0 0 0 0 0 0 0 0 0 0 0 0 ]\\r\\nShut down      = [ 0 0 0 0 0 0 0 0 0 0 0 0 0 0 0 0 0 0 0 0 0 0 0 0 ]\\r\\nActive power   = [      3.00000000e+01      3.00000000e+01      3.00000000e+01      3.00000000e+01      3.00000000e+01      3.00000000e+01      3.00000000e+01      3.00000000e+01      3.00000000e+01      3.00000000e+01      3.00000000e+01      3.00000000e+01      3.00000000e+01      3.00000000e+01      3.00000000e+01      3.00000000e+01      3.00000000e+01      3.00000000e+01      3.00000000e+01      3.00000000e+01      3.00000000e+01      3.00000000e+01      3.00000000e+01      3.00000000e+01 ]\\r\\n\\r\\n----- DCNetworkBlock 0 -----\\r\\nFunction value   = 0.00000000e+00\\r\\nPower flow       = [      2.00000000e+01 ]\\r\\n\\r\\n----- DCNetworkBlock 1 -----\\r\\nFunction value   = 0.00000000e+00\\r\\nPower flow       = [      2.00000000e+01 ]\\r\\n\\r\\n----- DCNetworkBlock 2 -----\\r\\nFunction value   = 0.00000000e+00\\r\\nPower flow       = [      2.00000000e+01 ]\\r\\n\\r\\n----- DCNetworkBlock 3 -----\\r\\nFunction value   = 0.00000000e+00\\r\\nPower flow       = [      2.00000000e+01 ]\\r\\n\\r\\n----- DCNetworkBlock 4 -----\\r\\nFunction value   = 0.00000000e+00\\r\\nPower flow       = [      2.00000000e+01 ]\\r\\n\\r\\n----- DCNetworkBlock 5 -----\\r\\nFunction value   = 0.00000000e+00\\r\\nPower flow       = [      2.00000000e+01 ]\\r\\n\\r\\n----- DCNetworkBlock 6 -----\\r\\nFunction value   = 0.00000000e+00\\r\\nPower flow       = [      2.00000000e+01 ]\\r\\n\\r\\n----- DCNetworkBlock 7 -----\\r\\nFunction value   = 0.00000000e+00\\r\\nPower flow       = [      2.00000000e+01 ]\\r\\n\\r\\n----- DCNetworkBlock 8 -----\\r\\nFunction value   = 0.00000000e+00\\r\\nPower flow       = [      2.00000000e+01 ]\\r\\n\\r\\n----- DCNetworkBlock 9 -----\\r\\nFunction value   = 0.00000000e+00\\r\\nPower flow       = [      2.00000000e+01 ]\\r\\n\\r\\n----- DCNetworkBlock 10 -----\\r\\nFunction value   = 0.00000000e+00\\r\\nPower flow       = [      2.00000000e+01 ]\\r\\n\\r\\n----- DCNetworkBlock 11 -----\\r\\nFunction value   = 0.00000000e+00\\r\\nPower flow       = [      2.00000000e+01 ]\\r\\n\\r\\n----- DCNetworkBlock 12 -----\\r\\nFunction value   = 0.00000000e+00\\r\\nPower flow       = [      2.00000000e+01 ]\\r\\n\\r\\n----- DCNetworkBlock 13 -----\\r\\nFunction value   = 0.00000000e+00\\r\\nPower flow       = [      2.00000000e+01 ]\\r\\n\\r\\n----- DCNetworkBlock 14 -----\\r\\nFunction value   = 0.00000000e+00\\r\\nPower flow       = [      2.00000000e+01 ]\\r\\n\\r\\n----- DCNetworkBlock 15 -----\\r\\nFunction value   = 0.00000000e+00\\r\\nPower flow       = [      2.00000000e+01 ]\\r\\n\\r\\n----- DCNetworkBlock 16 -----\\r\\nFunction value   = 0.00000000e+00\\r\\nPower flow       = [      2.00000000e+01 ]\\r\\n\\r\\n----- DCNetworkBlock 17 -----\\r\\nFunction value   = 0.00000000e+00\\r\\nPower flow       = [      2.00000000e+01 ]\\r\\n\\r\\n----- DCNetworkBlock 18 -----\\r\\nFunction value   = 0.00000000e+00\\r\\nPower flow       = [      2.00000000e+01 ]\\r\\n\\r\\n----- DCNetworkBlock 19 -----\\r\\nFunction value   = 0.00000000e+00\\r\\nPower flow       = [      2.00000000e+01 ]\\r\\n\\r\\n----- DCNetworkBlock 20 -----\\r\\nFunction value   = 0.00000000e+00\\r\\nPower flow       = [      2.00000000e+01 ]\\r\\n\\r\\n----- DCNetworkBlock 21 -----\\r\\nFunction value   = 0.00000000e+00\\r\\nPower flow       = [      2.00000000e+01 ]\\r\\n\\r\\n----- DCNetworkBlock 22 -----\\r\\nFunction value   = 0.00000000e+00\\r\\nPower flow       = [      2.00000000e+01 ]\\r\\n\\r\\n----- DCNetworkBlock 23 -----\\r\\nFunction value   = 0.00000000e+00\\r\\nPower flow       = [      2.00000000e+01 ]\\r\\n\\r\\n'"
      ]
     },
     "execution_count": 13,
     "metadata": {},
     "output_type": "execute_result"
    }
   ],
   "source": [
    "result.log"
   ]
  }
 ],
 "metadata": {
  "kernelspec": {
   "display_name": "pysmspp",
   "language": "python",
   "name": "python3"
  },
  "language_info": {
   "codemirror_mode": {
    "name": "ipython",
    "version": 3
   },
   "file_extension": ".py",
   "mimetype": "text/x-python",
   "name": "python",
   "nbconvert_exporter": "python",
   "pygments_lexer": "ipython3",
   "version": "3.10.16"
  }
 },
 "nbformat": 4,
 "nbformat_minor": 2
}
